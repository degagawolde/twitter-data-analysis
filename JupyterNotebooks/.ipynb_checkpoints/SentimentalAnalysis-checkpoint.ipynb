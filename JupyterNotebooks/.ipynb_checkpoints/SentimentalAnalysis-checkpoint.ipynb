{
 "cells": [
  {
   "cell_type": "markdown",
   "metadata": {},
   "source": [
    "# Sentiment Analysis\n",
    "- create score from the polarity\n",
    "- use the score as target value\n",
    "- Building a Sentiment Classifier using Scikit-Learn"
   ]
  },
  {
   "cell_type": "code",
   "execution_count": 4,
   "metadata": {},
   "outputs": [
    {
     "name": "stdout",
     "output_type": "stream",
     "text": [
      "Enabling notebook extension neptune-notebooks/neptune-notebook...\r\n",
      "      - Validating: \u001b[32mOK\u001b[0m\r\n"
     ]
    }
   ],
   "source": [
    "!jupyter nbextension enable --py neptune-notebooks\n"
   ]
  },
  {
   "cell_type": "markdown",
   "metadata": {},
   "source": [
    "### Import necessary package"
   ]
  },
  {
   "cell_type": "code",
   "execution_count": 1,
   "metadata": {},
   "outputs": [
    {
     "ename": "ModuleNotFoundError",
     "evalue": "No module named 'gensim'",
     "output_type": "error",
     "traceback": [
      "\u001b[0;31m---------------------------------------------------------------------------\u001b[0m",
      "\u001b[0;31mModuleNotFoundError\u001b[0m                       Traceback (most recent call last)",
      "\u001b[0;32m/var/folders/6b/0t1qb1d92f72c46kvp35pwfc0000gn/T/ipykernel_77630/2321802799.py\u001b[0m in \u001b[0;36m<module>\u001b[0;34m\u001b[0m\n\u001b[1;32m      6\u001b[0m \u001b[0;32mimport\u001b[0m \u001b[0mseaborn\u001b[0m \u001b[0;32mas\u001b[0m \u001b[0msns\u001b[0m\u001b[0;34m\u001b[0m\u001b[0;34m\u001b[0m\u001b[0m\n\u001b[1;32m      7\u001b[0m \u001b[0;32mimport\u001b[0m \u001b[0mmatplotlib\u001b[0m\u001b[0;34m.\u001b[0m\u001b[0mpyplot\u001b[0m \u001b[0;32mas\u001b[0m \u001b[0mplt\u001b[0m\u001b[0;34m\u001b[0m\u001b[0;34m\u001b[0m\u001b[0m\n\u001b[0;32m----> 8\u001b[0;31m \u001b[0;32mimport\u001b[0m \u001b[0mgensim\u001b[0m\u001b[0;34m\u001b[0m\u001b[0;34m\u001b[0m\u001b[0m\n\u001b[0m\u001b[1;32m      9\u001b[0m \u001b[0;32mimport\u001b[0m \u001b[0mstring\u001b[0m\u001b[0;34m\u001b[0m\u001b[0;34m\u001b[0m\u001b[0m\n\u001b[1;32m     10\u001b[0m \u001b[0;32mimport\u001b[0m \u001b[0mre\u001b[0m\u001b[0;34m\u001b[0m\u001b[0;34m\u001b[0m\u001b[0m\n",
      "\u001b[0;31mModuleNotFoundError\u001b[0m: No module named 'gensim'"
     ]
    }
   ],
   "source": [
    "import pandas as pd\n",
    "import warnings\n",
    "warnings.filterwarnings('ignore')\n",
    "from pprint import pprint\n",
    "import numpy as np\n",
    "import seaborn as sns\n",
    "import matplotlib.pyplot as plt\n",
    "import gensim\n",
    "import string\n",
    "import re\n",
    "import os\n",
    "\n",
    "import sys\n",
    "sys.path.append(os.path.abspath(os.path.join(\"./..\")))\n",
    "# custom modules from Day-2\n",
    "from preprocess_tweet_data import DataPreparation"
   ]
  },
  {
   "cell_type": "markdown",
   "metadata": {},
   "source": [
    "### Data acquisition\n",
    "- We use the clean_tweet_dataframe.csv"
   ]
  },
  {
   "cell_type": "code",
   "execution_count": 2,
   "metadata": {},
   "outputs": [
    {
     "data": {
      "text/html": [
       "<div>\n",
       "<style scoped>\n",
       "    .dataframe tbody tr th:only-of-type {\n",
       "        vertical-align: middle;\n",
       "    }\n",
       "\n",
       "    .dataframe tbody tr th {\n",
       "        vertical-align: top;\n",
       "    }\n",
       "\n",
       "    .dataframe thead th {\n",
       "        text-align: right;\n",
       "    }\n",
       "</style>\n",
       "<table border=\"1\" class=\"dataframe\">\n",
       "  <thead>\n",
       "    <tr style=\"text-align: right;\">\n",
       "      <th></th>\n",
       "      <th>created_at</th>\n",
       "      <th>source</th>\n",
       "      <th>clean_text</th>\n",
       "      <th>polarity</th>\n",
       "      <th>subjectivity</th>\n",
       "      <th>lang</th>\n",
       "      <th>favorite_count</th>\n",
       "      <th>retweet_count</th>\n",
       "      <th>original_author</th>\n",
       "      <th>followers_count</th>\n",
       "      <th>friends_count</th>\n",
       "      <th>possibly_sensitive</th>\n",
       "      <th>hashtags</th>\n",
       "      <th>user_mentions</th>\n",
       "      <th>place</th>\n",
       "      <th>flattened_hashtags</th>\n",
       "      <th>flattened_user_mentions</th>\n",
       "    </tr>\n",
       "  </thead>\n",
       "  <tbody>\n",
       "    <tr>\n",
       "      <th>0</th>\n",
       "      <td>2022-08-07 22:31:20+00:00</td>\n",
       "      <td>twitter for android</td>\n",
       "      <td>iameztoy extra random image let us focus one s...</td>\n",
       "      <td>-1.250000e-01</td>\n",
       "      <td>0.190625</td>\n",
       "      <td>en</td>\n",
       "      <td>0</td>\n",
       "      <td>2</td>\n",
       "      <td>i_ameztoy</td>\n",
       "      <td>20497</td>\n",
       "      <td>2621</td>\n",
       "      <td>False</td>\n",
       "      <td>['#city', '#ta']</td>\n",
       "      <td>['@i_ameztoy']</td>\n",
       "      <td>NaN</td>\n",
       "      <td>#City</td>\n",
       "      <td>@i_ameztoy</td>\n",
       "    </tr>\n",
       "    <tr>\n",
       "      <th>1</th>\n",
       "      <td>2022-08-07 22:31:16+00:00</td>\n",
       "      <td>twitter for android</td>\n",
       "      <td>indopacinfo chinas media explains military rea...</td>\n",
       "      <td>-1.000000e-01</td>\n",
       "      <td>0.100000</td>\n",
       "      <td>en</td>\n",
       "      <td>0</td>\n",
       "      <td>201</td>\n",
       "      <td>ziisq</td>\n",
       "      <td>65</td>\n",
       "      <td>272</td>\n",
       "      <td>False</td>\n",
       "      <td>['#china', '#taiwan']</td>\n",
       "      <td>['@indopac_info']</td>\n",
       "      <td>NaN</td>\n",
       "      <td>#Ta</td>\n",
       "      <td>@IndoPac_Info</td>\n",
       "    </tr>\n",
       "    <tr>\n",
       "      <th>2</th>\n",
       "      <td>2022-08-07 22:31:07+00:00</td>\n",
       "      <td>twitter for android</td>\n",
       "      <td>china even cut communication anwer phonecalls ...</td>\n",
       "      <td>0.000000e+00</td>\n",
       "      <td>0.000000</td>\n",
       "      <td>en</td>\n",
       "      <td>0</td>\n",
       "      <td>0</td>\n",
       "      <td>fin21free</td>\n",
       "      <td>85</td>\n",
       "      <td>392</td>\n",
       "      <td>False</td>\n",
       "      <td>['#xijinping']</td>\n",
       "      <td>['@zelenskyyua']</td>\n",
       "      <td>netherlands</td>\n",
       "      <td>#China</td>\n",
       "      <td>@ZelenskyyUa</td>\n",
       "    </tr>\n",
       "    <tr>\n",
       "      <th>3</th>\n",
       "      <td>2022-08-07 22:31:06+00:00</td>\n",
       "      <td>twitter for android</td>\n",
       "      <td>putin xijinping told friend taiwan vassal stat...</td>\n",
       "      <td>1.000000e-01</td>\n",
       "      <td>0.350000</td>\n",
       "      <td>en</td>\n",
       "      <td>0</td>\n",
       "      <td>0</td>\n",
       "      <td>fin21free</td>\n",
       "      <td>85</td>\n",
       "      <td>392</td>\n",
       "      <td>False</td>\n",
       "      <td>['#xijinping']</td>\n",
       "      <td>NaN</td>\n",
       "      <td>netherlands</td>\n",
       "      <td>#Taiwan</td>\n",
       "      <td>@ChinaUncensored</td>\n",
       "    </tr>\n",
       "    <tr>\n",
       "      <th>4</th>\n",
       "      <td>2022-08-07 22:31:04+00:00</td>\n",
       "      <td>twitter for iphone</td>\n",
       "      <td>chinauncensored sorry thought taiwan independe...</td>\n",
       "      <td>-6.938894e-18</td>\n",
       "      <td>0.556250</td>\n",
       "      <td>en</td>\n",
       "      <td>0</td>\n",
       "      <td>381</td>\n",
       "      <td>vizzinidolores</td>\n",
       "      <td>910</td>\n",
       "      <td>2608</td>\n",
       "      <td>False</td>\n",
       "      <td>NaN</td>\n",
       "      <td>['@chinauncensored']</td>\n",
       "      <td>ayent, schweiz</td>\n",
       "      <td>#XiJinping</td>\n",
       "      <td>@benedictrogers</td>\n",
       "    </tr>\n",
       "  </tbody>\n",
       "</table>\n",
       "</div>"
      ],
      "text/plain": [
       "                  created_at               source  \\\n",
       "0  2022-08-07 22:31:20+00:00  twitter for android   \n",
       "1  2022-08-07 22:31:16+00:00  twitter for android   \n",
       "2  2022-08-07 22:31:07+00:00  twitter for android   \n",
       "3  2022-08-07 22:31:06+00:00  twitter for android   \n",
       "4  2022-08-07 22:31:04+00:00   twitter for iphone   \n",
       "\n",
       "                                          clean_text      polarity  \\\n",
       "0  iameztoy extra random image let us focus one s... -1.250000e-01   \n",
       "1  indopacinfo chinas media explains military rea... -1.000000e-01   \n",
       "2  china even cut communication anwer phonecalls ...  0.000000e+00   \n",
       "3  putin xijinping told friend taiwan vassal stat...  1.000000e-01   \n",
       "4  chinauncensored sorry thought taiwan independe... -6.938894e-18   \n",
       "\n",
       "   subjectivity lang  favorite_count  retweet_count original_author  \\\n",
       "0      0.190625   en               0              2       i_ameztoy   \n",
       "1      0.100000   en               0            201           ziisq   \n",
       "2      0.000000   en               0              0       fin21free   \n",
       "3      0.350000   en               0              0       fin21free   \n",
       "4      0.556250   en               0            381  vizzinidolores   \n",
       "\n",
       "   followers_count  friends_count  possibly_sensitive               hashtags  \\\n",
       "0            20497           2621               False       ['#city', '#ta']   \n",
       "1               65            272               False  ['#china', '#taiwan']   \n",
       "2               85            392               False         ['#xijinping']   \n",
       "3               85            392               False         ['#xijinping']   \n",
       "4              910           2608               False                    NaN   \n",
       "\n",
       "          user_mentions           place flattened_hashtags  \\\n",
       "0        ['@i_ameztoy']             NaN              #City   \n",
       "1     ['@indopac_info']             NaN                #Ta   \n",
       "2      ['@zelenskyyua']     netherlands             #China   \n",
       "3                   NaN     netherlands            #Taiwan   \n",
       "4  ['@chinauncensored']  ayent, schweiz         #XiJinping   \n",
       "\n",
       "  flattened_user_mentions  \n",
       "0              @i_ameztoy  \n",
       "1           @IndoPac_Info  \n",
       "2            @ZelenskyyUa  \n",
       "3        @ChinaUncensored  \n",
       "4         @benedictrogers  "
      ]
     },
     "execution_count": 2,
     "metadata": {},
     "output_type": "execute_result"
    }
   ],
   "source": [
    "clean_tweet_df = pd.read_csv('../clean_tweet_dataframe.csv')\n",
    "clean_tweet_df.head()"
   ]
  },
  {
   "cell_type": "code",
   "execution_count": 3,
   "metadata": {},
   "outputs": [
    {
     "data": {
      "text/plain": [
       "Index(['created_at', 'source', 'clean_text', 'polarity', 'subjectivity',\n",
       "       'lang', 'favorite_count', 'retweet_count', 'original_author',\n",
       "       'followers_count', 'friends_count', 'possibly_sensitive', 'hashtags',\n",
       "       'user_mentions', 'place', 'flattened_hashtags',\n",
       "       'flattened_user_mentions', 'score'],\n",
       "      dtype='object')"
      ]
     },
     "execution_count": 3,
     "metadata": {},
     "output_type": "execute_result"
    }
   ],
   "source": [
    "PrepareData_obj = DataPreparation(clean_tweet_df)\n",
    "\n",
    "clean_tweet_data_score = PrepareData_obj.create_score(clean_tweet_df)\n",
    "clean_tweet_data_score.columns\n"
   ]
  },
  {
   "cell_type": "code",
   "execution_count": 7,
   "metadata": {},
   "outputs": [
    {
     "data": {
      "image/png": "[encoded data removed]",
      "text/plain": [
       "<Figure size 432x288 with 2 Axes>"
      ]
     },
     "metadata": {
      "needs_background": "light"
     },
     "output_type": "display_data"
    }
   ],
   "source": [
    "# barchart\n",
    "# plot(kind='bar')\n",
    "sentiment_count = clean_tweet_data_score['score'].value_counts()\n",
    "keys = list(sentiment_count.keys())\n",
    "counts = [item for key, item in sentiment_count.items()]\n",
    "\n",
    "fig, ax = plt.subplots(1, 2)\n",
    "\n",
    "ax[0].bar(keys, counts, tick_label=keys,\n",
    "          width=0.8, color=['blue', 'green', 'orange'])\n",
    "ax[0].set_title('barchart')\n",
    "\n",
    "ax[1].pie(counts, labels=keys,\n",
    "          startangle=90,\n",
    "          shadow=True,\n",
    "          colors=['blue', 'green', 'orange'],\n",
    "          radius=1.2)\n",
    "ax[1].set_title('piechart')\n",
    "plt.subplots_adjust(left=0.2, right=0.99,\n",
    "                    bottom=0.2, top=0.6,\n",
    "                    wspace=0.6, hspace=0.4)\n"
   ]
  },
  {
   "cell_type": "code",
   "execution_count": 8,
   "metadata": {},
   "outputs": [
    {
     "data": {
      "text/plain": [
       "<AxesSubplot:ylabel='score'>"
      ]
     },
     "execution_count": 8,
     "metadata": {},
     "output_type": "execute_result"
    },
    {
     "data": {
      "image/png": "[encoded data removed]",
      "text/plain": [
       "<Figure size 864x720 with 1 Axes>"
      ]
     },
     "metadata": {},
     "output_type": "display_data"
    }
   ],
   "source": [
    "common_source = clean_tweet_df[clean_tweet_df['source'].isin(['twitter for android',\n",
    "                                                              'twitter web app',\n",
    "                                                              'twitter for iphone'])]\n",
    "common_source.groupby('source')['score'].value_counts().plot.pie(\n",
    "    figsize=(12, 10), fontsize=15)\n"
   ]
  },
  {
   "cell_type": "markdown",
   "metadata": {},
   "source": [
    "# additonal preprocess \n",
    "- Convert the score value to class 1 or 0\n",
    "    - Remove rows where  𝐩𝐨𝐥𝐚𝐫𝐢𝐭𝐲 = 0 or 𝐬𝐜𝐨𝐫𝐞  = Neutral\n",
    "    - reset the frame index.\n",
    "\n",
    "    - Construct a column  𝐬𝐜𝐨𝐫𝐞𝐦𝐚𝐩  Use the mapping {'positive':1, 'negative':0} on the  𝐬𝐜𝐨𝐫𝐞  column\n",
    "\n",
    "    - Create feature and target variables (X,y) from  𝐜𝐥𝐞𝐚𝐧-𝐭𝐞𝐱𝐭  and  𝐬𝐜𝐨𝐫𝐞𝐦𝐚𝐩  columns respectively.\n",
    "\n",
    "    - Use train_test_split function to construct (X_train, y_train) and (X_test, y_test) from (X,y)\n",
    "\n",
    "    - Build an SGDClassifier model from the vectorize train text data. Use CountVectorizer() with a  trigram  parameter.\n",
    "    - Evaluate your model on the test data.\n"
   ]
  },
  {
   "cell_type": "code",
   "execution_count": 9,
   "metadata": {},
   "outputs": [
    {
     "data": {
      "text/plain": [
       "Index(['created_at', 'source', 'clean_text', 'polarity', 'subjectivity',\n",
       "       'lang', 'favorite_count', 'retweet_count', 'original_author',\n",
       "       'followers_count', 'friends_count', 'possibly_sensitive', 'hashtags',\n",
       "       'user_mentions', 'place', 'flattened_hashtags',\n",
       "       'flattened_user_mentions', 'score', 'scoremap'],\n",
       "      dtype='object')"
      ]
     },
     "execution_count": 9,
     "metadata": {},
     "output_type": "execute_result"
    }
   ],
   "source": [
    "clean_tweet_data_scoremap = PrepareData_obj.create_scoremap(\n",
    "    clean_tweet_data_score)\n",
    "clean_tweet_data_scoremap.columns\n"
   ]
  },
  {
   "cell_type": "code",
   "execution_count": 10,
   "metadata": {},
   "outputs": [
    {
     "data": {
      "text/plain": [
       "0    0\n",
       "1    0\n",
       "3    1\n",
       "4    0\n",
       "5    1\n",
       "Name: scoremap, dtype: int64"
      ]
     },
     "execution_count": 10,
     "metadata": {},
     "output_type": "execute_result"
    }
   ],
   "source": [
    "clean_tweet_data_scoremap['scoremap'].head()\n"
   ]
  },
  {
   "cell_type": "code",
   "execution_count": 11,
   "metadata": {},
   "outputs": [],
   "source": [
    "from sklearn.feature_extraction.text import CountVectorizer\n",
    "X, y = np.array(clean_tweet_data_scoremap['clean_text'],\n",
    "                dtype='unicode'), clean_tweet_data_scoremap['scoremap']\n",
    "vectorizer = CountVectorizer(ngram_range=(3, 3))\n",
    "X = vectorizer.fit_transform(X)\n"
   ]
  },
  {
   "cell_type": "code",
   "execution_count": 12,
   "metadata": {},
   "outputs": [],
   "source": [
    "from sklearn.model_selection import train_test_split\n",
    "X_train, X_test, y_train, y_test = train_test_split(\n",
    "    X, y, test_size=0.33, random_state=42)\n"
   ]
  },
  {
   "cell_type": "code",
   "execution_count": 13,
   "metadata": {},
   "outputs": [],
   "source": [
    "from sklearn.linear_model import SGDClassifier\n",
    "from sklearn.preprocessing import StandardScaler\n",
    "from sklearn.pipeline import make_pipeline\n",
    "\n",
    "clf = SGDClassifier(max_iter=1000, tol=1e-3)\n",
    "model = clf.fit(X_train, y_train)\n"
   ]
  },
  {
   "cell_type": "markdown",
   "metadata": {},
   "source": [
    "- evaluate the model performance using score wich is classification accuracy"
   ]
  },
  {
   "cell_type": "code",
   "execution_count": 14,
   "metadata": {},
   "outputs": [
    {
     "data": {
      "text/plain": [
       "0.9287543655413272"
      ]
     },
     "execution_count": 14,
     "metadata": {},
     "output_type": "execute_result"
    }
   ],
   "source": [
    "model.score(X_test,y_test)"
   ]
  }
 ],
 "metadata": {
  "kernelspec": {
   "display_name": "Python 3 (ipykernel)",
   "language": "python",
   "name": "python3"
  },
  "language_info": {
   "codemirror_mode": {
    "name": "ipython",
    "version": 3
   },
   "file_extension": ".py",
   "mimetype": "text/x-python",
   "name": "python",
   "nbconvert_exporter": "python",
   "pygments_lexer": "ipython3",
   "version": "3.10.5"
  },
  "vscode": {
   "interpreter": {
    "hash": "2be9f4616ca1b5198a62cd2082c7feed2682666a7b8fb219311f5849134be0bf"
   }
  }
 },
 "nbformat": 4,
 "nbformat_minor": 2
}
